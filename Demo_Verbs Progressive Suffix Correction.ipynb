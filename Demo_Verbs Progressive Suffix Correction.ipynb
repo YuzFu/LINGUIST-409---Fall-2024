{
 "cells": [
  {
   "cell_type": "markdown",
   "id": "b34ffbb4-61d8-430c-b8bf-883adc827c72",
   "metadata": {},
   "source": [
    "## Progressive Suffix Correction for Verbs\n",
    "\n",
    "### Construction of Transducers\n",
    "\n",
    "```python\n",
    "turkish_alphabet = \"abcçdefgğhıijklmnoöprsştuüvyzT \"  # Added \" \"(space) and \"T\" to handle compounds and uppercase\n",
    "sigma = pynini.union(*turkish_alphabet).closure()\n",
    "consonant = pynini.union(*\"bcçdfgğhjklmnprsştvz\")  # Define consonant group\n",
    "```\n",
    "\n",
    "The Turkish alphabet is defined, including space to handle multi-word compounds and the uppercase letter `T` for potential capitalized inputs. `sigma` is created to match any valid Turkish word. Additionally, a `consonant` is defined to represent the group of consonants.\n",
    "\n",
    "```python\n",
    "# Progressive suffix context for adding ü\n",
    "prog_adding_rule_ü = pynini.cdrewrite(\n",
    "    pynini.cross(\"\", \"ü\"),\n",
    "    consonant,    # Left context: a consonant\n",
    "    \"yor\",    # Right context: before \"yor\"\n",
    "    sigma)\n",
    "\n",
    "# Progressive suffix context for adding i\n",
    "prog_adding_rule_i = pynini.cdrewrite(\n",
    "    pynini.cross(\"\", \"i\"),\n",
    "    consonant,    # Left context: a consonant\n",
    "    \"yor\",    # Right context: before \"yor\"\n",
    "    sigma)\n",
    "```\n",
    "\n",
    "Two rewrite rules are defined:\n",
    "\n",
    "1. **`prog_adding_rule_ü`**: Inserts \"ü\" when the preceding character is a consonant and the following context is \"yor\". This rule aligns with front and rounded vowels.\n",
    "2. **`prog_adding_rule_i`**: Inserts \"i\" under the same context but applies when the vowel is front and unrounded.\n",
    "\n",
    "These rules ensure progressive suffix align with Turkish vowel harmony principles."
   ]
  }
 ],
 "metadata": {
  "kernelspec": {
   "display_name": "Python 3 (ipykernel)",
   "language": "python",
   "name": "python3"
  },
  "language_info": {
   "codemirror_mode": {
    "name": "ipython",
    "version": 3
   },
   "file_extension": ".py",
   "mimetype": "text/x-python",
   "name": "python",
   "nbconvert_exporter": "python",
   "pygments_lexer": "ipython3",
   "version": "3.10.9"
  }
 },
 "nbformat": 4,
 "nbformat_minor": 5
}
