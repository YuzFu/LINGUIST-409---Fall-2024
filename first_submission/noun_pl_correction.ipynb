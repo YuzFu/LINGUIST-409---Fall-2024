{
 "cells": [
  {
   "cell_type": "code",
   "execution_count": 3,
   "metadata": {},
   "outputs": [
    {
     "name": "stdout",
     "output_type": "stream",
     "text": [
      "Accuracy Before Correction: 68.90%\n",
      "Accuracy After Correction: 69.10%\n"
     ]
    }
   ],
   "source": [
    "# Define a function that takes in tur.out, test the vowel harmony info - frontness, replace the vowel if needed\n",
    "# bonus: compare to tur.dev (correct version) to see if the problem is solved\n",
    "\n",
    "def noun_correction(estimated_file, correct_file):\n",
    "    def is_front_vowel(v):\n",
    "        return v in \"eiöü\"\n",
    "\n",
    "    def is_back_vowel(v):\n",
    "        return v in \"aıou\"\n",
    "    \n",
    "    def is_round_vowel(v):\n",
    "        return v in \"ouöü\"\n",
    "    \n",
    "    def is_unround_vowel(v):\n",
    "        return v in \"eiaı\"\n",
    "\n",
    "    def noun_pl_suffix(lemma):\n",
    "        # Find the last vowel in the lemma to determine the correct plural suffix\n",
    "        for char in reversed(lemma):\n",
    "            if is_back_vowel(char):\n",
    "                return \"lar\"\n",
    "            if is_front_vowel(char):\n",
    "                return \"ler\"\n",
    "        return \"\" \n",
    "\n",
    "    def noun_pl_correction(output, lemma, msd):\n",
    "        suffix_start = len(lemma)\n",
    "        suffix = output[suffix_start:]\n",
    "\n",
    "        expected_suffix = noun_pl_suffix(lemma)\n",
    "\n",
    "        # Apply correction only if msd indicates plural noun\n",
    "        if \"PL\" in msd and suffix in [\"lar\", \"ler\"] and suffix != expected_suffix:\n",
    "            return output[:suffix_start] + expected_suffix\n",
    "        return output\n",
    "\n",
    "    with open(estimated_file, 'r', encoding='utf8') as output, open(correct_file, 'r', encoding='utf8') as correct:\n",
    "        estimated_lines = [line.strip() for line in output if line.strip()]\n",
    "        correct_lines = [line.strip() for line in correct if line.strip()]\n",
    "\n",
    "    total = 0\n",
    "    correct_before = 0\n",
    "    correct_after = 0\n",
    "\n",
    "    for estimated_line, correct_line in zip(estimated_lines, correct_lines):\n",
    "        lemma, msd, predicted = estimated_line.split('\\t')\n",
    "        lemma_correct, msd_correct, correct = correct_line.split('\\t')\n",
    "\n",
    "        assert lemma == lemma_correct and msd == msd_correct\n",
    "\n",
    "        if predicted == correct:\n",
    "            correct_before += 1\n",
    "\n",
    "        corrected = predicted\n",
    "\n",
    "        if 'N' in msd:\n",
    "            corrected = noun_pl_correction(corrected, lemma, msd)\n",
    "\n",
    "        if corrected == correct:\n",
    "            correct_after += 1\n",
    "\n",
    "        total += 1\n",
    "\n",
    "    accuracy_before = correct_before / total\n",
    "    accuracy_after = correct_after / total\n",
    "\n",
    "    return accuracy_before, accuracy_after\n",
    "\n",
    "accuracy_before, accuracy_after = noun_correction('data/tur.out', 'data/tur.dev')\n",
    "print(f\"Accuracy Before Correction: {accuracy_before:.2%}\")\n",
    "print(f\"Accuracy After Correction: {accuracy_after:.2%}\")"
   ]
  },
  {
   "cell_type": "code",
   "execution_count": null,
   "metadata": {},
   "outputs": [],
   "source": []
  }
 ],
 "metadata": {
  "kernelspec": {
   "display_name": "base",
   "language": "python",
   "name": "python3"
  },
  "language_info": {
   "codemirror_mode": {
    "name": "ipython",
    "version": 3
   },
   "file_extension": ".py",
   "mimetype": "text/x-python",
   "name": "python",
   "nbconvert_exporter": "python",
   "pygments_lexer": "ipython3",
   "version": "3.11.5"
  }
 },
 "nbformat": 4,
 "nbformat_minor": 2
}
