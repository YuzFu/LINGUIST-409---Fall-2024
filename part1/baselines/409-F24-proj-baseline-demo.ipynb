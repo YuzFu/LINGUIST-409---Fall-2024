{
 "cells": [
  {
   "cell_type": "markdown",
   "id": "a7c7c03f-fa69-4c9d-98ff-40a56a2825de",
   "metadata": {
    "tags": []
   },
   "source": [
    "# Overview of baseline code for morphological inflection\n",
    "LING 409 Fall 2024"
   ]
  },
  {
   "cell_type": "code",
   "execution_count": null,
   "id": "ef4c7381-be34-4249-9ee3-b0d66dd736d4",
   "metadata": {
    "tags": []
   },
   "outputs": [],
   "source": [
    "import nonneural  # import nonneural module to have access to functions defined in it\n",
    "import random # for doing some testing\n",
    "import os"
   ]
  },
  {
   "cell_type": "markdown",
   "id": "3e49c596",
   "metadata": {},
   "source": [
    "In this notebook, I'll start to demonstrate how I might work through the `nonneural.py` code to understand what it is doing. \n",
    "\n",
    "We can display the text of the `nonneural.py` Python script in this Jupyter notebook using the [magic command `%pycat`](https://ipython.readthedocs.io/en/stable/interactive/magics.html#magic-pycat)."
   ]
  },
  {
   "cell_type": "code",
   "execution_count": null,
   "id": "8c4b76ae",
   "metadata": {
    "tags": []
   },
   "outputs": [],
   "source": [
    "%pycat nonneural.py"
   ]
  },
  {
   "cell_type": "markdown",
   "id": "f393b622",
   "metadata": {},
   "source": [
    "Looking over the code structure, we can see that it first defines a bunch of utility/helper functions at the top and then a **main** function at the bottom (starting at line 162).\n",
    "\n",
    "To understand the code structure, let's start by looking at the `main()` function.\n",
    "\n",
    "## The `main()` function\n",
    "\n",
    "### Running the module as a script vs. importing it\n",
    "\n",
    "At the very very end of the code (line 260), there is a little conditional expression that says:\n",
    "\n",
    "```python\n",
    "if __name__ == \"__main__\":\n",
    "    main(sys.argv)\n",
    "```\n",
    "\n",
    "This conditional expression makes the `nonneural.py` code [\"usable as a script as well as an importable module\"](https://docs.python.org/3/tutorial/modules.html#executing-modules-as-scripts).\n",
    "\n",
    "If we type\n",
    "\n",
    "```bash\n",
    "# I am in the shell!\n",
    "python nonneural.net\n",
    "```\n",
    "\n",
    "on the command line (e.g., in a bash shell), the `_name_` is set to `__main__` and the code in the conditional expression is run.\n",
    "But if we import the code as a module in a python interpreter using\n",
    "\n",
    "```python\n",
    "# I am in a python interpreter\n",
    "import nonneural\n",
    "```\n",
    "\n",
    "then the `main()` function is not run, but we get to access all the functions that were defined in the script.\n",
    "\n"
   ]
  },
  {
   "cell_type": "markdown",
   "id": "fcf8d01a",
   "metadata": {},
   "source": [
    "## Arguments for script, help, global variable initialization: lines 162-186\n",
    "\n",
    "The first section of the `main()` function is important if we are running `nonneural.py` as a script.\n",
    "It sets the options we have for including arguments when we run the script (note: the `-t` option doesn't actually work!)\n",
    "It also sets defaults for the variables `TEST`, `OUTPUT`, `HELP` and `path`.\n",
    "\n",
    "```python\n",
    "def main(argv):\n",
    "    options, remainder = getopt.gnu_getopt(argv[1:], 'ohp:', ['output','help','path='])\n",
    "    TEST, OUTPUT, HELP, path = False,False, False, '../data/'\n",
    "    for opt, arg in options:\n",
    "        if opt in ('-o', '--output'):\n",
    "            OUTPUT = True\n",
    "        if opt in ('-t', '--test'):\n",
    "            TEST = True\n",
    "        if opt in ('-h', '--help'):\n",
    "            HELP = True\n",
    "        if opt in ('-p', '--path'):\n",
    "            path = arg\n",
    "\n",
    "```\n",
    "\n",
    "So for instance, we can generate output files if we run the script with the `-o` argument\n",
    "\n",
    "```bash\n",
    "# I am in the shell!\n",
    "python nonneural.net -o\n",
    "```\n",
    "\n",
    "\n",
    "The next part (line 175-184) sets the message printed if we ask for help in the shell.\n",
    "\n",
    "```python\n",
    "    if HELP:\n",
    "            print(\"\\n*** Baseline for the SIGMORPHON 2020 shared task ***\\n\")\n",
    "            print(\"By default, the program runs all languages only evaluating accuracy.\")\n",
    "            print(\"To create output files, use -o\")\n",
    "            print(\"The training and dev-data are assumed to live in ./part1/development_languages/\")\n",
    "            print(\"Options:\")\n",
    "            print(\" -o         create output files with guesses (and don't just evaluate)\")\n",
    "            print(\" -t         evaluate on test instead of dev\")\n",
    "            print(\" -p [path]  data files path. Default is ../data/\")\n",
    "            quit()\n",
    "\n",
    "```\n",
    "\n",
    "We can ask for help in the shell:\n",
    "\n",
    "```bash\n",
    "# I am in the shell!\n",
    "python nonneural.net -h\n",
    "python nonneural.net --help\n",
    "```\n",
    "\n",
    "If we are in a Python interpreter and ask for help, we get back the docstrings in the script.\n",
    "\n",
    "```python\n",
    "# I am in a python interpreter\n",
    "import nonneural\n",
    "help(nonneural)\n",
    "```"
   ]
  },
  {
   "cell_type": "code",
   "execution_count": null,
   "id": "47083434",
   "metadata": {
    "tags": []
   },
   "outputs": [],
   "source": [
    "help(nonneural)"
   ]
  },
  {
   "cell_type": "markdown",
   "id": "23df0d06",
   "metadata": {},
   "source": [
    "Finally, line 186 initializes global variables `totalavg` and `numlang` to 0.0 and 0.\n",
    "\n",
    "```python\n",
    "    totalavg, numlang = 0.0, 0\n",
    "```"
   ]
  },
  {
   "cell_type": "markdown",
   "id": "eb2103df",
   "metadata": {},
   "source": [
    "## The giant for loop (lines 187-257)\n",
    "\n",
    "Line 187 starts a giant `for` loop that spans the rest of the `main()` function.\n",
    "\n",
    "```python\n",
    "    for lang in [os.path.splitext(d)[0] for d in os.listdir(path) if '.trn' in d]:\n",
    "```\n",
    "The loop iterates over each language `lang` in the `path` directory, if the language has a training data file (indicated by `.trn`)\n",
    "\n",
    "We can take a look at what the list comprehension in line 187 does:"
   ]
  },
  {
   "cell_type": "code",
   "execution_count": null,
   "id": "51378487",
   "metadata": {
    "tags": []
   },
   "outputs": [],
   "source": [
    "# what needs to be added here?\n",
    "[os.path.splitext(d)[0] for d in os.listdir(path) if '.trn' in d]"
   ]
  },
  {
   "cell_type": "markdown",
   "id": "42b65a1e",
   "metadata": {},
   "source": [
    "If we skim over the rest of the for loop we can look at the comments to get hints about what the code is supposed to do:\n",
    "\n",
    "1. \"test if language is predominantly suffixing or prefixing\" (line 193)\n",
    "2. \"Read in lines and extract transformation rules from pairs\" (line 202, kind of hidden)\n",
    "3. \"run eval on dev\" (line 226)\n",
    "\n",
    "Let's first look at the rest of the beginning bit of the for loop, lines 187-191, before the test for suffixing/prefixing :\n",
    "\n",
    "```python\n",
    "for lang in [os.path.splitext(d)[0] for d in os.listdir(path) if '.trn' in d]:\n",
    "        allprules, allsrules = {}, {}\n",
    "        if not os.path.isfile(path + lang +  \".trn\"):\n",
    "            continue\n",
    "        lines = [line.strip() for line in open(path + lang + \".trn\", \"r\", encoding='utf8') if line != '\\n']\n",
    "\n",
    "```\n",
    "\n",
    "What's going on in this part of the code?\n",
    "Can we take a look at what `lines` is?"
   ]
  },
  {
   "cell_type": "code",
   "execution_count": null,
   "id": "0a1abc16",
   "metadata": {
    "tags": []
   },
   "outputs": [],
   "source": [
    "# CODE BLOCK TO INSPECT lines\n"
   ]
  },
  {
   "cell_type": "markdown",
   "id": "4ac6b962",
   "metadata": {},
   "source": [
    "### Testing for prefixing/suffixing (lines 193-201)\n",
    "\n",
    "Now let's look at the first chunk of code that tests if a language is predominantly suffixing or prefixing: lines 193-201.\n",
    "\n",
    "```python\n",
    "        # First, test if language is predominantly suffixing or prefixing\n",
    "        # If prefixing, work with reversed strings\n",
    "        prefbias, suffbias = 0,0\n",
    "        for l in lines:\n",
    "            lemma, _, form = l.split(u'\\t')\n",
    "            aligned = halign(lemma, form)\n",
    "            if ' ' not in aligned[0] and ' ' not in aligned[1] and '-' not in aligned[0] and '-' not in aligned[1]:\n",
    "                prefbias += numleadingsyms(aligned[0],'_') + numleadingsyms(aligned[1],'_')\n",
    "                suffbias += numtrailingsyms(aligned[0],'_') + numtrailingsyms(aligned[1],'_')\n",
    "```\n",
    "\n",
    "Line 195 initializes two variables to the integer 0. What do you think these variables are for?\n",
    "\n",
    "```python\n",
    "        prefbias, suffbias = 0,0\n",
    "```\n",
    "\n",
    "Then we have a for loop that iterates over each line in `lines`.\n",
    "\n",
    "To better understand what's going on in the for loop, we can see what happens when we run through a single iteration of the loop.\n"
   ]
  },
  {
   "cell_type": "code",
   "execution_count": null,
   "id": "9fa08175",
   "metadata": {
    "tags": []
   },
   "outputs": [],
   "source": [
    "# let's try out the the for loop on a random, single entry of lines\n",
    "rand_line_ind = random.randint(0,len(lines))\n",
    "l0 = lines[rand_line_ind] \n",
    "lemma, _, form = l0.split(u'\\t')\n",
    "\n",
    "print(lemma)\n",
    "print(_) # why use underscore as a variable name?\n",
    "print(form)\n"
   ]
  },
  {
   "cell_type": "code",
   "execution_count": null,
   "id": "4110a29a",
   "metadata": {
    "tags": []
   },
   "outputs": [],
   "source": [
    "# CODE BLOCK FOR CALLING halign()\n",
    "# We'll come back to the details of halign() later\n",
    "aligned = nonneural.halign(lemma, form)\n",
    "\n",
    "print(aligned)"
   ]
  },
  {
   "cell_type": "code",
   "execution_count": null,
   "id": "ab6124a2",
   "metadata": {
    "tags": []
   },
   "outputs": [],
   "source": [
    "# CODE BLOCK FOR LINES 199-201\n",
    "prefbias, suffbias = 0,0\n",
    "\n",
    "if ' ' not in aligned[0] and ' ' not in aligned[1] and '-' not in aligned[0] and '-' not in aligned[1]:\n",
    "    prefbias += nonneural.numleadingsyms(aligned[0],'_') + nonneural.numleadingsyms(aligned[1],'_')\n",
    "    suffbias += nonneural.numtrailingsyms(aligned[0],'_') + nonneural.numtrailingsyms(aligned[1],'_')\n",
    "\n",
    "print(nonneural.numleadingsyms(aligned[0],'_'))\n",
    "print(nonneural.numleadingsyms(aligned[1],'_'))\n",
    "print(nonneural.numtrailingsyms(aligned[0],'_'))\n",
    "print(nonneural.numtrailingsyms(aligned[1],'_'))\n",
    "\n",
    "print(\"prefbias = \", prefbias)\n",
    "print(\"suffbias = \", suffbias)"
   ]
  },
  {
   "cell_type": "markdown",
   "id": "cb7d5383",
   "metadata": {},
   "source": [
    "### Extracting transformation rules (lines 202-224)\n",
    "\n",
    "Now let's take a look at the \"extracting transformation rules\" part.\n",
    "\n",
    "The first chunk of code does something based on whether `prefbias` or `suffbias` is greater.\n",
    "\n",
    "```python\n",
    "lemma, msd, form = l.split(u'\\t')\n",
    "            if prefbias > suffbias:\n",
    "                lemma = lemma[::-1]\n",
    "                form = form[::-1]\n",
    "```\n",
    "\n",
    "We can try it out on our test line."
   ]
  },
  {
   "cell_type": "code",
   "execution_count": null,
   "id": "32b3cec5",
   "metadata": {},
   "outputs": [],
   "source": [
    "# CODE BLOCK FOR TESTING LINES 202-206\n",
    "\n",
    "print(\"Reminder: prefbias =\", prefbias)\n",
    "print(\"Reminder: suffbias =\", suffbias)\n",
    "\n",
    "lemma, msd, form = l0.split(u'\\t')\n",
    "print(\"lemma:\", lemma, \"\\nmsd:\", msd, \"\\nform:\", form)\n",
    "\n",
    "if prefbias > suffbias:\n",
    "    lemma = lemma[::-1]\n",
    "    print(lemma)\n",
    "    form = form[::-1]\n",
    "    print(form)\n",
    "\n"
   ]
  },
  {
   "cell_type": "markdown",
   "id": "98f97c74",
   "metadata": {},
   "source": [
    "Line 207 then calls `prefix_suffix_rules_get()`\n",
    "\n",
    "```python\n",
    "            prules, srules = prefix_suffix_rules_get(lemma, form)\n",
    "```\n",
    "\n",
    "We can try it out on our test line."
   ]
  },
  {
   "cell_type": "code",
   "execution_count": null,
   "id": "66cb7eda",
   "metadata": {},
   "outputs": [],
   "source": [
    "prules, srules = nonneural.prefix_suffix_rules_get(lemma, form)\n",
    "print(\"prules:\", prules)\n",
    "print(\"\\n\")\n",
    "print(\"srules:\", srules)"
   ]
  },
  {
   "cell_type": "markdown",
   "id": "10d526b4",
   "metadata": {},
   "source": [
    "The next code chunk (line 209-212) does something with `allprules` and `allsrules` (initialized in line 188):\n",
    "\n",
    "```python\n",
    "            if msd not in allprules and len(prules) > 0:\n",
    "                allprules[msd] = {}\n",
    "            if msd not in allsrules and len(srules) > 0:\n",
    "                allsrules[msd] = {}\n",
    "\n",
    "```\n",
    "\n",
    "Let's try it out."
   ]
  },
  {
   "cell_type": "code",
   "execution_count": null,
   "id": "e9a3d030",
   "metadata": {},
   "outputs": [],
   "source": [
    "allprules, allsrules = {}, {}  # from line 188\n",
    "\n",
    "print(\"Reminder: msd=\", msd)\n",
    "\n",
    "if msd not in allprules and len(prules) > 0:\n",
    "    allprules[msd] = {}\n",
    "if msd not in allsrules and len(srules) > 0:\n",
    "    allsrules[msd] = {}\n",
    "\n",
    "print(\"allprules:\", allprules)\n",
    "print(\"allsrules:\", allprules)"
   ]
  },
  {
   "cell_type": "markdown",
   "id": "cae543d8",
   "metadata": {},
   "source": [
    "Then we have two code chunks that seem to do something similar to `prules` and `srules`:\n",
    "\n",
    "```python\n",
    "\n",
    "            for r in prules:\n",
    "                if (r[0],r[1]) in allprules[msd]:\n",
    "                    allprules[msd][(r[0],r[1])] = allprules[msd][(r[0],r[1])] + 1\n",
    "                else:\n",
    "                    allprules[msd][(r[0],r[1])] = 1\n",
    "\n",
    "            for r in srules:\n",
    "                if (r[0],r[1]) in allsrules[msd]:\n",
    "                    allsrules[msd][(r[0],r[1])] = allsrules[msd][(r[0],r[1])] + 1\n",
    "                else:\n",
    "                    allsrules[msd][(r[0],r[1])] = 1\n",
    "\n",
    "\n",
    "```\n",
    "\n",
    "Let's try out the prules chunk:"
   ]
  },
  {
   "cell_type": "code",
   "execution_count": null,
   "id": "318b98d2",
   "metadata": {},
   "outputs": [],
   "source": [
    "# CODE BLOCK FOR prules SECTION\n",
    "\n",
    "print(\"Reminder: msd =\", msd)\n",
    "print(\"Reminder: prules =\", prules, \"\\n\")\n",
    "\n",
    "print(\"Reminder: allprules =\", allprules)\n",
    "print(\"Reminder: allprules[msd] =\", allprules[msd], \"\\n\")\n",
    "\n",
    "\n",
    "for r in prules:\n",
    "    if (r[0],r[1]) in allprules[msd]:\n",
    "        allprules[msd][(r[0],r[1])] = allprules[msd][(r[0],r[1])] + 1\n",
    "    else:\n",
    "        allprules[msd][(r[0],r[1])] = 1\n",
    "\n",
    "print(\"Now allprules[msd] is:\", allprules[msd])\n"
   ]
  },
  {
   "cell_type": "code",
   "execution_count": null,
   "id": "7e85ab39",
   "metadata": {},
   "outputs": [],
   "source": [
    "# CODE BLOCK FOR srules SECTION\n",
    "print(\"Reminder: msd =\", msd)\n",
    "print(\"Reminder: srules =\", srules, \"\\n\")\n",
    "\n",
    "print(\"Reminder: allsrules =\", allsrules)\n",
    "print(\"Reminder: allsrules[msd] =\", allsrules[msd], \"\\n\")\n",
    "\n",
    "\n",
    "for r in srules:\n",
    "    if (r[0],r[1]) in allsrules[msd]:\n",
    "        allsrules[msd][(r[0],r[1])] = allsrules[msd][(r[0],r[1])] + 1\n",
    "    else:\n",
    "        allsrules[msd][(r[0],r[1])] = 1\n",
    "\n",
    "print(\"Now allsrules[msd] is:\", allsrules[msd])\n",
    "\n",
    "\n"
   ]
  },
  {
   "cell_type": "markdown",
   "id": "c3a9ed0c",
   "metadata": {},
   "source": [
    "## The `halign()` function\n",
    "\n",
    "What does the `halign()` function do?\n",
    "We can print out the function definition:"
   ]
  },
  {
   "cell_type": "code",
   "execution_count": null,
   "id": "e98e9130",
   "metadata": {
    "tags": []
   },
   "outputs": [],
   "source": [
    "# From https://stackoverflow.com/questions/1562759/can-python-print-a-function-definition\n",
    "import inspect\n",
    "import sys\n",
    "sys.stdout.write(inspect.getsource(nonneural.halign))"
   ]
  }
 ],
 "metadata": {
  "kernelspec": {
   "display_name": "Python 3 (ipykernel)",
   "language": "python",
   "name": "python3"
  },
  "language_info": {
   "codemirror_mode": {
    "name": "ipython",
    "version": 3
   },
   "file_extension": ".py",
   "mimetype": "text/x-python",
   "name": "python",
   "nbconvert_exporter": "python",
   "pygments_lexer": "ipython3",
   "version": "3.9.7"
  }
 },
 "nbformat": 4,
 "nbformat_minor": 5
}
